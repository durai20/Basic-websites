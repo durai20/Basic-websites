{
 "cells": [
  {
   "cell_type": "markdown",
   "id": "98462aa0",
   "metadata": {},
   "source": [
    "# HANDWRITTEN TEXT GENERATION"
   ]
  },
  {
   "cell_type": "raw",
   "id": "b7aca458",
   "metadata": {},
   "source": [
    "Implement a character-level recurrent neural network (RNN) to generate handwritten-like text. Train the model on a dataset of handwritten text examples, and let it generate new text based on the learned patterns."
   ]
  },
  {
   "cell_type": "code",
   "execution_count": 2,
   "id": "39e2f0f1",
   "metadata": {
    "scrolled": false
   },
   "outputs": [],
   "source": [
    "import numpy as np\n",
    "import tensorflow as tf\n",
    "from tensorflow.keras.preprocessing.text import Tokenizer\n",
    "from tensorflow.keras.preprocessing.sequence import pad_sequences\n",
    "from tensorflow.keras.models import Sequential\n",
    "from tensorflow.keras.layers import Embedding, LSTM, Dense"
   ]
  },
  {
   "cell_type": "markdown",
   "id": "8ebd8e7a",
   "metadata": {},
   "source": [
    "# Read the text file"
   ]
  },
  {
   "cell_type": "code",
   "execution_count": 3,
   "id": "49f7bedb",
   "metadata": {},
   "outputs": [],
   "source": [
    "with open('C:/Users/deepa/Desktop/HANDWRITTEN TEXT GENERATION/train_data.txt', 'r', encoding='utf-8') as file:\n",
    "    text = file.read()"
   ]
  },
  {
   "cell_type": "code",
   "execution_count": 4,
   "id": "7e79cab3",
   "metadata": {},
   "outputs": [],
   "source": [
    "tokenizer = Tokenizer()\n",
    "tokenizer.fit_on_texts([text])\n",
    "total_words = len(tokenizer.word_index) + 1"
   ]
  },
  {
   "cell_type": "code",
   "execution_count": 5,
   "id": "f256f713",
   "metadata": {},
   "outputs": [],
   "source": [
    "input_sequences = []\n",
    "for line in text.split('\\n'):\n",
    "    token_list = tokenizer.texts_to_sequences([line])[0]\n",
    "    for i in range(1, len(token_list)):\n",
    "        n_gram_sequence = token_list[:i+1]\n",
    "        input_sequences.append(n_gram_sequence)"
   ]
  },
  {
   "cell_type": "code",
   "execution_count": 6,
   "id": "5647654c",
   "metadata": {},
   "outputs": [],
   "source": [
    "max_sequence_len = max([len(seq) for seq in input_sequences])\n",
    "input_sequences = np.array(pad_sequences(input_sequences, maxlen=max_sequence_len, padding='pre'))"
   ]
  },
  {
   "cell_type": "code",
   "execution_count": 7,
   "id": "d56aaeda",
   "metadata": {},
   "outputs": [],
   "source": [
    "X = input_sequences[:, :-1]\n",
    "y = input_sequences[:, -1]"
   ]
  },
  {
   "cell_type": "code",
   "execution_count": 8,
   "id": "b020680c",
   "metadata": {},
   "outputs": [],
   "source": [
    "y = np.array(tf.keras.utils.to_categorical(y, num_classes=total_words))"
   ]
  },
  {
   "cell_type": "code",
   "execution_count": 9,
   "id": "9a509fe1",
   "metadata": {},
   "outputs": [
    {
     "name": "stdout",
     "output_type": "stream",
     "text": [
      "Model: \"sequential\"\n",
      "_________________________________________________________________\n",
      " Layer (type)                Output Shape              Param #   \n",
      "=================================================================\n",
      " embedding (Embedding)       (None, 17, 100)           820000    \n",
      "                                                                 \n",
      " lstm (LSTM)                 (None, 150)               150600    \n",
      "                                                                 \n",
      " dense (Dense)               (None, 8200)              1238200   \n",
      "                                                                 \n",
      "=================================================================\n",
      "Total params: 2,208,800\n",
      "Trainable params: 2,208,800\n",
      "Non-trainable params: 0\n",
      "_________________________________________________________________\n",
      "None\n"
     ]
    }
   ],
   "source": [
    "model = Sequential()\n",
    "model.add(Embedding(total_words, 100, input_length=max_sequence_len-1))\n",
    "model.add(LSTM(150))\n",
    "model.add(Dense(total_words, activation='softmax'))\n",
    "print(model.summary())"
   ]
  },
  {
   "cell_type": "code",
   "execution_count": 10,
   "id": "7ebf5bc7",
   "metadata": {},
   "outputs": [
    {
     "name": "stdout",
     "output_type": "stream",
     "text": [
      "Epoch 1/100\n",
      "3010/3010 [==============================] - 294s 96ms/step - loss: 6.2331 - accuracy: 0.0764\n",
      "Epoch 2/100\n",
      "3010/3010 [==============================] - 268s 89ms/step - loss: 5.5243 - accuracy: 0.1234\n",
      "Epoch 3/100\n",
      "3010/3010 [==============================] - 250s 83ms/step - loss: 5.1441 - accuracy: 0.1460\n",
      "Epoch 4/100\n",
      "3010/3010 [==============================] - 284s 94ms/step - loss: 4.8127 - accuracy: 0.1641\n",
      "Epoch 5/100\n",
      "3010/3010 [==============================] - 265s 88ms/step - loss: 4.5049 - accuracy: 0.1815\n",
      "Epoch 6/100\n",
      "3010/3010 [==============================] - 259s 86ms/step - loss: 4.2138 - accuracy: 0.2032\n",
      "Epoch 7/100\n",
      "3010/3010 [==============================] - 257s 86ms/step - loss: 3.9336 - accuracy: 0.2298\n",
      "Epoch 8/100\n",
      "3010/3010 [==============================] - 273s 91ms/step - loss: 3.6685 - accuracy: 0.2609\n",
      "Epoch 9/100\n",
      "3010/3010 [==============================] - 264s 88ms/step - loss: 3.4193 - accuracy: 0.2962\n",
      "Epoch 10/100\n",
      "3010/3010 [==============================] - 260s 86ms/step - loss: 3.1863 - accuracy: 0.3319\n",
      "Epoch 11/100\n",
      "3010/3010 [==============================] - 261s 87ms/step - loss: 2.9696 - accuracy: 0.3676\n",
      "Epoch 12/100\n",
      "3010/3010 [==============================] - 274s 91ms/step - loss: 2.7724 - accuracy: 0.4043\n",
      "Epoch 13/100\n",
      "3010/3010 [==============================] - 290s 96ms/step - loss: 2.5898 - accuracy: 0.4367\n",
      "Epoch 14/100\n",
      "3010/3010 [==============================] - 338s 112ms/step - loss: 2.4232 - accuracy: 0.4705\n",
      "Epoch 15/100\n",
      "3010/3010 [==============================] - 243s 81ms/step - loss: 2.2699 - accuracy: 0.4997\n",
      "Epoch 16/100\n",
      "3010/3010 [==============================] - 184s 61ms/step - loss: 2.1285 - accuracy: 0.5290\n",
      "Epoch 17/100\n",
      "3010/3010 [==============================] - 180s 60ms/step - loss: 2.0009 - accuracy: 0.5546\n",
      "Epoch 18/100\n",
      "3010/3010 [==============================] - 180s 60ms/step - loss: 1.8811 - accuracy: 0.5782\n",
      "Epoch 19/100\n",
      "3010/3010 [==============================] - 179s 59ms/step - loss: 1.7734 - accuracy: 0.6032\n",
      "Epoch 20/100\n",
      "3010/3010 [==============================] - 187s 62ms/step - loss: 1.6764 - accuracy: 0.6226\n",
      "Epoch 21/100\n",
      "3010/3010 [==============================] - 171s 57ms/step - loss: 1.5843 - accuracy: 0.6427\n",
      "Epoch 22/100\n",
      "3010/3010 [==============================] - 173s 57ms/step - loss: 1.5038 - accuracy: 0.6611\n",
      "Epoch 23/100\n",
      "3010/3010 [==============================] - 179s 60ms/step - loss: 1.4274 - accuracy: 0.6765\n",
      "Epoch 24/100\n",
      "3010/3010 [==============================] - 186s 62ms/step - loss: 1.3578 - accuracy: 0.6936\n",
      "Epoch 25/100\n",
      "3010/3010 [==============================] - 172s 57ms/step - loss: 1.2942 - accuracy: 0.7071\n",
      "Epoch 26/100\n",
      "3010/3010 [==============================] - 176s 58ms/step - loss: 1.2371 - accuracy: 0.7193\n",
      "Epoch 27/100\n",
      "3010/3010 [==============================] - 178s 59ms/step - loss: 1.1818 - accuracy: 0.7314\n",
      "Epoch 28/100\n",
      "3010/3010 [==============================] - 170s 57ms/step - loss: 1.1336 - accuracy: 0.7420\n",
      "Epoch 29/100\n",
      "3010/3010 [==============================] - 179s 60ms/step - loss: 1.0881 - accuracy: 0.7509\n",
      "Epoch 30/100\n",
      "3010/3010 [==============================] - 174s 58ms/step - loss: 1.0450 - accuracy: 0.7608\n",
      "Epoch 31/100\n",
      "3010/3010 [==============================] - 170s 56ms/step - loss: 1.0087 - accuracy: 0.7685\n",
      "Epoch 32/100\n",
      "3010/3010 [==============================] - 166s 55ms/step - loss: 0.9735 - accuracy: 0.7772\n",
      "Epoch 33/100\n",
      "3010/3010 [==============================] - 163s 54ms/step - loss: 0.9407 - accuracy: 0.7833\n",
      "Epoch 34/100\n",
      "3010/3010 [==============================] - 168s 56ms/step - loss: 0.9106 - accuracy: 0.7912\n",
      "Epoch 35/100\n",
      "3010/3010 [==============================] - 178s 59ms/step - loss: 0.8837 - accuracy: 0.7965\n",
      "Epoch 36/100\n",
      "3010/3010 [==============================] - 172s 57ms/step - loss: 0.8582 - accuracy: 0.7999\n",
      "Epoch 37/100\n",
      "3010/3010 [==============================] - 172s 57ms/step - loss: 0.8335 - accuracy: 0.8065\n",
      "Epoch 38/100\n",
      "3010/3010 [==============================] - 174s 58ms/step - loss: 0.8104 - accuracy: 0.8118\n",
      "Epoch 39/100\n",
      "3010/3010 [==============================] - 168s 56ms/step - loss: 0.7931 - accuracy: 0.8141\n",
      "Epoch 40/100\n",
      "3010/3010 [==============================] - 173s 57ms/step - loss: 0.7747 - accuracy: 0.8189\n",
      "Epoch 41/100\n",
      "3010/3010 [==============================] - 183s 61ms/step - loss: 0.7582 - accuracy: 0.8228\n",
      "Epoch 42/100\n",
      "3010/3010 [==============================] - 210s 70ms/step - loss: 0.7419 - accuracy: 0.8264\n",
      "Epoch 43/100\n",
      "3010/3010 [==============================] - 189s 63ms/step - loss: 0.7280 - accuracy: 0.8276\n",
      "Epoch 44/100\n",
      "3010/3010 [==============================] - 190s 63ms/step - loss: 0.7101 - accuracy: 0.8319\n",
      "Epoch 45/100\n",
      "3010/3010 [==============================] - 191s 63ms/step - loss: 0.7037 - accuracy: 0.8321\n",
      "Epoch 46/100\n",
      "3010/3010 [==============================] - 183s 61ms/step - loss: 0.6844 - accuracy: 0.8378\n",
      "Epoch 47/100\n",
      "3010/3010 [==============================] - 188s 62ms/step - loss: 0.6770 - accuracy: 0.8391\n",
      "Epoch 48/100\n",
      "3010/3010 [==============================] - 187s 62ms/step - loss: 0.6678 - accuracy: 0.8402\n",
      "Epoch 49/100\n",
      "3010/3010 [==============================] - 187s 62ms/step - loss: 0.6564 - accuracy: 0.8422\n",
      "Epoch 50/100\n",
      "3010/3010 [==============================] - 207s 69ms/step - loss: 0.6489 - accuracy: 0.8439\n",
      "Epoch 51/100\n",
      "3010/3010 [==============================] - 194s 65ms/step - loss: 0.6442 - accuracy: 0.8438\n",
      "Epoch 52/100\n",
      "3010/3010 [==============================] - 193s 64ms/step - loss: 0.6307 - accuracy: 0.8474\n",
      "Epoch 53/100\n",
      "3010/3010 [==============================] - 188s 63ms/step - loss: 0.6256 - accuracy: 0.8478\n",
      "Epoch 54/100\n",
      "3010/3010 [==============================] - 184s 61ms/step - loss: 0.6170 - accuracy: 0.8499\n",
      "Epoch 55/100\n",
      "3010/3010 [==============================] - 191s 63ms/step - loss: 0.6162 - accuracy: 0.8489\n",
      "Epoch 56/100\n",
      "3010/3010 [==============================] - 177s 59ms/step - loss: 0.6055 - accuracy: 0.8514\n",
      "Epoch 57/100\n",
      "3010/3010 [==============================] - 178s 59ms/step - loss: 0.6014 - accuracy: 0.8532\n",
      "Epoch 58/100\n",
      "3010/3010 [==============================] - 180s 60ms/step - loss: 0.5990 - accuracy: 0.8523\n",
      "Epoch 59/100\n",
      "3010/3010 [==============================] - 170s 56ms/step - loss: 0.5917 - accuracy: 0.8534\n",
      "Epoch 60/100\n",
      "3010/3010 [==============================] - 183s 61ms/step - loss: 0.5864 - accuracy: 0.8548\n",
      "Epoch 61/100\n",
      "3010/3010 [==============================] - 181s 60ms/step - loss: 0.5855 - accuracy: 0.8546\n",
      "Epoch 62/100\n",
      "3010/3010 [==============================] - 191s 64ms/step - loss: 0.5795 - accuracy: 0.8560\n",
      "Epoch 63/100\n",
      "3010/3010 [==============================] - 187s 62ms/step - loss: 0.5775 - accuracy: 0.8564\n",
      "Epoch 64/100\n",
      "3010/3010 [==============================] - 178s 59ms/step - loss: 0.5725 - accuracy: 0.8573\n",
      "Epoch 65/100\n",
      "3010/3010 [==============================] - 178s 59ms/step - loss: 0.5646 - accuracy: 0.8597\n",
      "Epoch 66/100\n",
      "3010/3010 [==============================] - 192s 64ms/step - loss: 0.5642 - accuracy: 0.8593\n",
      "Epoch 67/100\n",
      "3010/3010 [==============================] - 183s 61ms/step - loss: 0.5638 - accuracy: 0.8585\n",
      "Epoch 68/100\n",
      "3010/3010 [==============================] - 177s 59ms/step - loss: 0.5590 - accuracy: 0.8600\n",
      "Epoch 69/100\n",
      "3010/3010 [==============================] - 177s 59ms/step - loss: 0.5574 - accuracy: 0.8599\n",
      "Epoch 70/100\n",
      "3010/3010 [==============================] - 181s 60ms/step - loss: 0.5532 - accuracy: 0.8603\n",
      "Epoch 71/100\n",
      "3010/3010 [==============================] - 184s 61ms/step - loss: 0.5530 - accuracy: 0.8603\n",
      "Epoch 72/100\n",
      "3010/3010 [==============================] - 182s 60ms/step - loss: 0.5440 - accuracy: 0.8621\n",
      "Epoch 73/100\n",
      "3010/3010 [==============================] - 179s 60ms/step - loss: 0.5485 - accuracy: 0.8610\n",
      "Epoch 74/100\n",
      "3010/3010 [==============================] - 179s 60ms/step - loss: 0.5440 - accuracy: 0.8617\n",
      "Epoch 75/100\n",
      "3010/3010 [==============================] - 180s 60ms/step - loss: 0.5372 - accuracy: 0.8634\n",
      "Epoch 76/100\n",
      "3010/3010 [==============================] - 177s 59ms/step - loss: 0.5449 - accuracy: 0.8607\n",
      "Epoch 77/100\n",
      "3010/3010 [==============================] - 254s 84ms/step - loss: 0.5367 - accuracy: 0.8630\n",
      "Epoch 78/100\n",
      "3010/3010 [==============================] - 185s 62ms/step - loss: 0.5372 - accuracy: 0.8625\n",
      "Epoch 79/100\n",
      "3010/3010 [==============================] - 181s 60ms/step - loss: 0.5344 - accuracy: 0.8622\n",
      "Epoch 80/100\n",
      "3010/3010 [==============================] - 186s 62ms/step - loss: 0.5335 - accuracy: 0.8631\n",
      "Epoch 81/100\n",
      "3010/3010 [==============================] - 186s 62ms/step - loss: 0.5336 - accuracy: 0.8624\n",
      "Epoch 82/100\n",
      "3010/3010 [==============================] - 179s 60ms/step - loss: 0.5314 - accuracy: 0.8631\n",
      "Epoch 83/100\n",
      "3010/3010 [==============================] - 174s 58ms/step - loss: 0.5233 - accuracy: 0.8653\n",
      "Epoch 84/100\n",
      "3010/3010 [==============================] - 171s 57ms/step - loss: 0.5288 - accuracy: 0.8625\n",
      "Epoch 85/100\n",
      "3010/3010 [==============================] - 175s 58ms/step - loss: 0.5291 - accuracy: 0.8630\n",
      "Epoch 86/100\n",
      "3010/3010 [==============================] - 173s 57ms/step - loss: 0.5275 - accuracy: 0.8638\n",
      "Epoch 87/100\n",
      "3010/3010 [==============================] - 171s 57ms/step - loss: 0.5214 - accuracy: 0.8649\n",
      "Epoch 88/100\n",
      "3010/3010 [==============================] - 174s 58ms/step - loss: 0.5251 - accuracy: 0.8632\n",
      "Epoch 89/100\n",
      "3010/3010 [==============================] - 173s 57ms/step - loss: 0.5274 - accuracy: 0.8625\n",
      "Epoch 90/100\n",
      "3010/3010 [==============================] - 175s 58ms/step - loss: 0.5180 - accuracy: 0.8655\n",
      "Epoch 91/100\n",
      "3010/3010 [==============================] - 173s 57ms/step - loss: 0.5221 - accuracy: 0.8638\n",
      "Epoch 92/100\n",
      "3010/3010 [==============================] - 173s 57ms/step - loss: 0.5209 - accuracy: 0.8641\n",
      "Epoch 93/100\n",
      "3010/3010 [==============================] - 171s 57ms/step - loss: 0.5171 - accuracy: 0.8652\n",
      "Epoch 94/100\n",
      "3010/3010 [==============================] - 175s 58ms/step - loss: 0.5230 - accuracy: 0.8629\n",
      "Epoch 95/100\n",
      "3010/3010 [==============================] - 171s 57ms/step - loss: 0.5153 - accuracy: 0.8653\n",
      "Epoch 96/100\n",
      "3010/3010 [==============================] - 171s 57ms/step - loss: 0.5117 - accuracy: 0.8661\n",
      "Epoch 97/100\n",
      "3010/3010 [==============================] - 177s 59ms/step - loss: 0.5174 - accuracy: 0.8647\n",
      "Epoch 98/100\n",
      "3010/3010 [==============================] - 172s 57ms/step - loss: 0.5194 - accuracy: 0.8638\n",
      "Epoch 99/100\n",
      "3010/3010 [==============================] - 170s 57ms/step - loss: 0.5166 - accuracy: 0.8631\n",
      "Epoch 100/100\n",
      "3010/3010 [==============================] - 170s 57ms/step - loss: 0.5129 - accuracy: 0.8645\n"
     ]
    },
    {
     "data": {
      "text/plain": [
       "<keras.callbacks.History at 0x27caed4f400>"
      ]
     },
     "execution_count": 10,
     "metadata": {},
     "output_type": "execute_result"
    }
   ],
   "source": [
    "model.compile(loss='categorical_crossentropy', optimizer='adam', metrics=['accuracy'])\n",
    "model.fit(X, y, epochs=100, verbose=1)"
   ]
  },
  {
   "cell_type": "code",
   "execution_count": 11,
   "id": "6c38aacb",
   "metadata": {},
   "outputs": [
    {
     "name": "stdout",
     "output_type": "stream",
     "text": [
      "1/1 [==============================] - 1s 1s/step\n",
      "1/1 [==============================] - 0s 22ms/step\n",
      "1/1 [==============================] - 0s 20ms/step\n",
      "This hotel is three men save\n"
     ]
    }
   ],
   "source": [
    "seed_text = \"This hotel is\"\n",
    "next_words = 3\n",
    "\n",
    "for _ in range(next_words):\n",
    "    token_list = tokenizer.texts_to_sequences([seed_text])[0]\n",
    "    token_list = pad_sequences([token_list], maxlen=max_sequence_len-1, padding='pre')\n",
    "    predicted = np.argmax(model.predict(token_list), axis=-1)\n",
    "    output_word = \"\"\n",
    "    for word, index in tokenizer.word_index.items():\n",
    "        if index == predicted:\n",
    "            output_word = word\n",
    "            break\n",
    "    seed_text += \" \" + output_word\n",
    "\n",
    "print(seed_text)"
   ]
  },
  {
   "cell_type": "code",
   "execution_count": 12,
   "id": "5385259d",
   "metadata": {},
   "outputs": [],
   "source": [
    "with open(\"output.txt\",'w') as file:\n",
    "  file.writelines([seed_text])\n",
    "  file.close()"
   ]
  },
  {
   "cell_type": "markdown",
   "id": "c4e9dd25",
   "metadata": {},
   "source": [
    "# Open the text file which you have to convert into handwriting"
   ]
  },
  {
   "cell_type": "code",
   "execution_count": 17,
   "id": "92d81f76",
   "metadata": {},
   "outputs": [
    {
     "name": "stdout",
     "output_type": "stream",
     "text": [
      "0\n",
      "1280\n"
     ]
    }
   ],
   "source": [
    "#Importing Library\n",
    "from PIL import Image\n",
    "with open('output.txt','r') as txt:\n",
    "    lines = txt.readlines()\n",
    "  \n",
    "\n",
    "\n",
    "#path of page(background)photo (I have used blank page)\\\n",
    "BG=Image.open('C:/Users/deepa/Desktop/HANDWRITTEN TEXT GENERATION/my_font.jpg') \n",
    "for line in lines:\n",
    "  text = line.strip()\n",
    "  sheet_width=BG.width\n",
    "  gap, ht = 0, 0\n",
    "\n",
    "  for i in text.replace(\"\\n\",\" \"):\n",
    "      cases = Image.open(\"C:/Users/deepa/Desktop/HANDWRITTEN TEXT GENERATION/my_font.jpg\".format(str(ord(i))))\n",
    "      BG.paste(cases, (gap, ht))\n",
    "      size = cases.width\n",
    "      height=cases.height\n",
    "      #print(size)\n",
    "      gap+=size\n",
    "      if sheet_width < gap or len(i)*115 >(sheet_width-gap):\n",
    "          gap,ht=0,ht+140\n",
    "  print(gap)\n",
    "  print(sheet_width)\n",
    "  BG.show()"
   ]
  }
 ],
 "metadata": {
  "kernelspec": {
   "display_name": "Python 3 (ipykernel)",
   "language": "python",
   "name": "python3"
  },
  "language_info": {
   "codemirror_mode": {
    "name": "ipython",
    "version": 3
   },
   "file_extension": ".py",
   "mimetype": "text/x-python",
   "name": "python",
   "nbconvert_exporter": "python",
   "pygments_lexer": "ipython3",
   "version": "3.10.9"
  }
 },
 "nbformat": 4,
 "nbformat_minor": 5
}
